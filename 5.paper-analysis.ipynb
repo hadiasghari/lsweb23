{
 "cells": [
  {
   "cell_type": "markdown",
   "metadata": {},
   "source": [
    "# Notebook to replicate our paper's quantitative analysis\n",
    "\n",
    "- Author: Hadi Asghari & Freya Hewett\n",
    "- Version: 2023.02\n",
    "\n",
    "The first part of this notebook takes as input the classified Oscar22 DE-subset pages.\n",
    "\n",
    "The second part uses the LS-scraper results. It also makes use of Language Tool's API (explained further below). \n",
    "\n"
   ]
  },
  {
   "cell_type": "code",
   "execution_count": 1,
   "metadata": {},
   "outputs": [],
   "source": [
    "from collections import Counter\n",
    "from urllib.parse import urlparse\n",
    "import os\n",
    "import requests\n",
    "import json\n",
    "import tldextract\n",
    "import pandas as pd\n",
    "from scipy import stats\n",
    "import numpy as np\n",
    "import matplotlib.pyplot as plt"
   ]
  },
  {
   "cell_type": "markdown",
   "metadata": {},
   "source": [
    "## Part I: analysis of web classification per domain category"
   ]
  },
  {
   "cell_type": "code",
   "execution_count": 4,
   "metadata": {},
   "outputs": [
    {
     "name": "stdout",
     "output_type": "stream",
     "text": [
      "16658597\n"
     ]
    },
    {
     "data": {
      "text/html": [
       "<div>\n",
       "<style scoped>\n",
       "    .dataframe tbody tr th:only-of-type {\n",
       "        vertical-align: middle;\n",
       "    }\n",
       "\n",
       "    .dataframe tbody tr th {\n",
       "        vertical-align: top;\n",
       "    }\n",
       "\n",
       "    .dataframe thead th {\n",
       "        text-align: right;\n",
       "    }\n",
       "</style>\n",
       "<table border=\"1\" class=\"dataframe\">\n",
       "  <thead>\n",
       "    <tr style=\"text-align: right;\">\n",
       "      <th></th>\n",
       "      <th>url</th>\n",
       "      <th>domain</th>\n",
       "      <th>domcat</th>\n",
       "      <th>readability</th>\n",
       "      <th>easy_score</th>\n",
       "      <th>clen</th>\n",
       "    </tr>\n",
       "  </thead>\n",
       "  <tbody>\n",
       "    <tr>\n",
       "      <th>0</th>\n",
       "      <td>http://cvd.bundesregierung.de/cvd-de/datenschu...</td>\n",
       "      <td>bundesregierung.de</td>\n",
       "      <td>Government</td>\n",
       "      <td>11.3</td>\n",
       "      <td>0.000</td>\n",
       "      <td>31200</td>\n",
       "    </tr>\n",
       "    <tr>\n",
       "      <th>1</th>\n",
       "      <td>http://demo.feuerwehr-kernen.de/fahrzeuge/eins...</td>\n",
       "      <td>feuerwehr-kernen.de</td>\n",
       "      <td>Society</td>\n",
       "      <td>13.3</td>\n",
       "      <td>0.000</td>\n",
       "      <td>7318</td>\n",
       "    </tr>\n",
       "    <tr>\n",
       "      <th>2</th>\n",
       "      <td>http://dl.ub.uni-freiburg.de/diglit/bibl_freim...</td>\n",
       "      <td>uni-freiburg.de</td>\n",
       "      <td>Education</td>\n",
       "      <td>13.3</td>\n",
       "      <td>0.097</td>\n",
       "      <td>202</td>\n",
       "    </tr>\n",
       "  </tbody>\n",
       "</table>\n",
       "</div>"
      ],
      "text/plain": [
       "                                                 url               domain  \\\n",
       "0  http://cvd.bundesregierung.de/cvd-de/datenschu...   bundesregierung.de   \n",
       "1  http://demo.feuerwehr-kernen.de/fahrzeuge/eins...  feuerwehr-kernen.de   \n",
       "2  http://dl.ub.uni-freiburg.de/diglit/bibl_freim...      uni-freiburg.de   \n",
       "\n",
       "       domcat  readability  easy_score   clen  \n",
       "0  Government         11.3       0.000  31200  \n",
       "1     Society         13.3       0.000   7318  \n",
       "2   Education         13.3       0.097    202  "
      ]
     },
     "execution_count": 4,
     "metadata": {},
     "output_type": "execute_result"
    }
   ],
   "source": [
    "# LOAD DATA\n",
    "df = pd.read_csv(\"./data/oscar22-classified.csv.xz\", sep='\\t')\n",
    "\n",
    "# or if recreating: \n",
    "# df = pd.read_csv(\"oscar-classified.csv\", sep='\\t', \n",
    "#                  names=['url', 'domain', 'domcat', 'readability', 'easy_score', 'clen'])\n",
    "# df = df[df.domain.str.endswith('de')]   \n",
    "\n",
    "print(len(df))\n",
    "df.head(3)"
   ]
  },
  {
   "cell_type": "code",
   "execution_count": 6,
   "metadata": {},
   "outputs": [
    {
     "data": {
      "text/plain": [
       "SignificanceResult(statistic=-0.4196474128263441, pvalue=0.0)"
      ]
     },
     "execution_count": 6,
     "metadata": {},
     "output_type": "execute_result"
    }
   ],
   "source": [
    "# spearman rho correlation between:\n",
    "# - the wiener_sachtextformel readibility score \n",
    "# - and our easy german classifier score\n",
    "# for cases where the readibility score is valid (among 5m randomly selected)\n",
    "t = df[(1<df.readability)&(df.readability<20)]\n",
    "stats.spearmanr(t.readability, t.easy_score)"
   ]
  },
  {
   "cell_type": "code",
   "execution_count": 7,
   "metadata": {},
   "outputs": [
    {
     "data": {
      "text/html": [
       "<div>\n",
       "<style scoped>\n",
       "    .dataframe tbody tr th:only-of-type {\n",
       "        vertical-align: middle;\n",
       "    }\n",
       "\n",
       "    .dataframe tbody tr th {\n",
       "        vertical-align: top;\n",
       "    }\n",
       "\n",
       "    .dataframe thead th {\n",
       "        text-align: right;\n",
       "    }\n",
       "</style>\n",
       "<table border=\"1\" class=\"dataframe\">\n",
       "  <thead>\n",
       "    <tr style=\"text-align: right;\">\n",
       "      <th></th>\n",
       "      <th>url</th>\n",
       "      <th>domain</th>\n",
       "      <th>perc_easy_u</th>\n",
       "    </tr>\n",
       "    <tr>\n",
       "      <th>domcat</th>\n",
       "      <th></th>\n",
       "      <th></th>\n",
       "      <th></th>\n",
       "    </tr>\n",
       "  </thead>\n",
       "  <tbody>\n",
       "    <tr>\n",
       "      <th>Government</th>\n",
       "      <td>931855</td>\n",
       "      <td>889</td>\n",
       "      <td>0.020907</td>\n",
       "    </tr>\n",
       "    <tr>\n",
       "      <th>Education</th>\n",
       "      <td>2402941</td>\n",
       "      <td>5145</td>\n",
       "      <td>0.036772</td>\n",
       "    </tr>\n",
       "    <tr>\n",
       "      <th>Science</th>\n",
       "      <td>456918</td>\n",
       "      <td>2338</td>\n",
       "      <td>0.076950</td>\n",
       "    </tr>\n",
       "    <tr>\n",
       "      <th>Business</th>\n",
       "      <td>1738920</td>\n",
       "      <td>36666</td>\n",
       "      <td>0.094636</td>\n",
       "    </tr>\n",
       "    <tr>\n",
       "      <th>RegOther</th>\n",
       "      <td>1685296</td>\n",
       "      <td>23578</td>\n",
       "      <td>0.099923</td>\n",
       "    </tr>\n",
       "    <tr>\n",
       "      <th>Recreation</th>\n",
       "      <td>1362707</td>\n",
       "      <td>18514</td>\n",
       "      <td>0.173185</td>\n",
       "    </tr>\n",
       "    <tr>\n",
       "      <th>Shopping</th>\n",
       "      <td>642924</td>\n",
       "      <td>4812</td>\n",
       "      <td>0.181726</td>\n",
       "    </tr>\n",
       "    <tr>\n",
       "      <th>Health</th>\n",
       "      <td>700874</td>\n",
       "      <td>12138</td>\n",
       "      <td>0.186744</td>\n",
       "    </tr>\n",
       "    <tr>\n",
       "      <th>Society</th>\n",
       "      <td>1471080</td>\n",
       "      <td>15748</td>\n",
       "      <td>0.189807</td>\n",
       "    </tr>\n",
       "    <tr>\n",
       "      <th>Computers</th>\n",
       "      <td>763282</td>\n",
       "      <td>3841</td>\n",
       "      <td>0.190128</td>\n",
       "    </tr>\n",
       "    <tr>\n",
       "      <th>Arts</th>\n",
       "      <td>1121333</td>\n",
       "      <td>8916</td>\n",
       "      <td>0.215683</td>\n",
       "    </tr>\n",
       "    <tr>\n",
       "      <th>Travel</th>\n",
       "      <td>470097</td>\n",
       "      <td>9290</td>\n",
       "      <td>0.215698</td>\n",
       "    </tr>\n",
       "    <tr>\n",
       "      <th>Kids</th>\n",
       "      <td>182729</td>\n",
       "      <td>864</td>\n",
       "      <td>0.248548</td>\n",
       "    </tr>\n",
       "    <tr>\n",
       "      <th>Home</th>\n",
       "      <td>321047</td>\n",
       "      <td>813</td>\n",
       "      <td>0.253228</td>\n",
       "    </tr>\n",
       "    <tr>\n",
       "      <th>Games</th>\n",
       "      <td>267319</td>\n",
       "      <td>1413</td>\n",
       "      <td>0.294106</td>\n",
       "    </tr>\n",
       "    <tr>\n",
       "      <th>News</th>\n",
       "      <td>2139275</td>\n",
       "      <td>1236</td>\n",
       "      <td>0.305004</td>\n",
       "    </tr>\n",
       "  </tbody>\n",
       "</table>\n",
       "</div>"
      ],
      "text/plain": [
       "                url  domain  perc_easy_u\n",
       "domcat                                  \n",
       "Government   931855     889     0.020907\n",
       "Education   2402941    5145     0.036772\n",
       "Science      456918    2338     0.076950\n",
       "Business    1738920   36666     0.094636\n",
       "RegOther    1685296   23578     0.099923\n",
       "Recreation  1362707   18514     0.173185\n",
       "Shopping     642924    4812     0.181726\n",
       "Health       700874   12138     0.186744\n",
       "Society     1471080   15748     0.189807\n",
       "Computers    763282    3841     0.190128\n",
       "Arts        1121333    8916     0.215683\n",
       "Travel       470097    9290     0.215698\n",
       "Kids         182729     864     0.248548\n",
       "Home         321047     813     0.253228\n",
       "Games        267319    1413     0.294106\n",
       "News        2139275    1236     0.305004"
      ]
     },
     "execution_count": 7,
     "metadata": {},
     "output_type": "execute_result"
    }
   ],
   "source": [
    "# calculate percentage of basic urls/domains\n",
    "# URLs & domains per category\n",
    "tb = df.groupby('domcat').url.count().to_frame()\n",
    "tb['domain'] = df.groupby('domcat').domain.nunique()\n",
    "\n",
    "#tb['mean_bscore'] = df.groupby('domcat').basic.mean()\n",
    "#tb['mean_diff'] = df.groupby('domcat').difficulty.mean()\n",
    "\n",
    "\n",
    "# counts of only basic pages (and domains with them)\n",
    "tb['url_easy'] = df[df.is_easy].groupby('domcat').url.count()\n",
    "tb['domain_weasy'] = df[df.is_easy].groupby('domcat').domain.nunique()\n",
    "\n",
    "# percentages\n",
    "tb['perc_easy_u'] = tb['url_easy'] / tb['url']\n",
    "del tb['url_easy'], tb['domain_weasy']\n",
    "\n",
    "# perhaps most interseting finding is that so little of government urls is basic :)\n",
    "\n",
    "tb.sort_values('perc_easy_u')"
   ]
  },
  {
   "cell_type": "code",
   "execution_count": 7,
   "metadata": {},
   "outputs": [
    {
     "name": "stdout",
     "output_type": "stream",
     "text": [
      "                   url  domain  perc_easy_u\n",
      "domcat                                     \n",
      "Science        2859859    7483     0.043210\n",
      "Gov_or_Region  2617151   24467     0.071892\n",
      "Business       1738920   36666     0.094679\n",
      "Shopping        642924    4812     0.181794\n",
      "Health          700874   12138     0.186790\n",
      "Society        1471080   15748     0.189874\n",
      "Computers       763282    3841     0.190214\n",
      "Recreation     2805087   28243     0.199405\n",
      "Travel          470097    9290     0.215796\n",
      "Kids            182729     864     0.248570\n",
      "Games           267319    1413     0.294192\n",
      "News           2139275    1236     0.305110\n"
     ]
    }
   ],
   "source": [
    "# Calculate percentage of 'easy' URLs/Domains (per category)\n",
    "# => perhaps most interseting finding is that so little of government urls is basic :)\n",
    "\n",
    "# add columns\n",
    "df['is_easy'] = df['easy_score'] >= 0.8  \n",
    "#df['url_leicht'] = df.url.str.contains('leicht.+sprach', case=False)\n",
    "# let's combine a few categories for easier presentation\n",
    "df.loc[df.domcat=='Government', 'domcat'] = 'Gov_or_Region'\n",
    "df.loc[df.domcat=='RegOther', 'domcat'] = 'Gov_or_Region'\n",
    "df.loc[df.domcat=='Arts', 'domcat'] = 'Recreation'\n",
    "df.loc[df.domcat=='Education', 'domcat'] = 'Science'\n",
    "df.loc[df.domcat=='Home', 'domcat'] = 'Recreation'\n",
    "\n",
    "# URLs & domains per category\n",
    "tb2 = df.groupby('domcat').url.count().to_frame()\n",
    "tb2['domain'] = df.groupby('domcat').domain.nunique()\n",
    "\n",
    "# counts of only easy pages (and their domains)\n",
    "tb2['url_easy'] = df[df.is_easy].groupby('domcat').url.count()\n",
    "tb2['perc_easy_u'] = tb2['url_easy'] / tb2['url']\n",
    "del tb2['url_easy']\n",
    "\n",
    "# print\n",
    "print(tb2.sort_values('perc_easy_u'))"
   ]
  },
  {
   "cell_type": "code",
   "execution_count": 10,
   "metadata": {},
   "outputs": [
    {
     "name": "stdout",
     "output_type": "stream",
     "text": [
      "\\begin{tabular}{lrrr}\n",
      "\\toprule\n",
      "{} &      url &  domain &  perc\\_easy\\_u \\\\\n",
      "domcat        &          &         &              \\\\\n",
      "\\midrule\n",
      "Science       &  2859859 &    7483 &     0.043191 \\\\\n",
      "Gov\\_or\\_Region &  2617151 &   24467 &     0.071788 \\\\\n",
      "Business      &  1738920 &   36666 &     0.094636 \\\\\n",
      "Shopping      &   642924 &    4812 &     0.181726 \\\\\n",
      "Health        &   700874 &   12138 &     0.186744 \\\\\n",
      "Society       &  1471080 &   15748 &     0.189807 \\\\\n",
      "Computers     &   763282 &    3841 &     0.190128 \\\\\n",
      "Recreation    &  2805087 &   28243 &     0.199335 \\\\\n",
      "Travel        &   470097 &    9290 &     0.215698 \\\\\n",
      "Kids          &   182729 &     864 &     0.248548 \\\\\n",
      "Games         &   267319 &    1413 &     0.294106 \\\\\n",
      "News          &  2139275 &    1236 &     0.305004 \\\\\n",
      "\\bottomrule\n",
      "\\end{tabular}\n",
      "\n"
     ]
    },
    {
     "name": "stderr",
     "output_type": "stream",
     "text": [
      "/tmp/ipykernel_67349/58578050.py:1: FutureWarning: In future versions `DataFrame.to_latex` is expected to utilise the base implementation of `Styler.to_latex` for formatting and rendering. The arguments signature may therefore change. It is recommended instead to use `DataFrame.style.to_latex` which also contains additional functionality.\n",
      "  print(tb2.sort_values('perc_easy_u').to_latex())\n"
     ]
    }
   ],
   "source": [
    "# output for latex\n",
    "print(tb2.sort_values('perc_easy_u').to_latex())"
   ]
  },
  {
   "cell_type": "code",
   "execution_count": 10,
   "metadata": {},
   "outputs": [
    {
     "name": "stdout",
     "output_type": "stream",
     "text": [
      "0.15524968879432044\n"
     ]
    },
    {
     "data": {
      "text/plain": [
       "<Axes: xlabel='domcat'>"
      ]
     },
     "execution_count": 10,
     "metadata": {},
     "output_type": "execute_result"
    },
    {
     "data": {
      "image/png": "[encoded data removed]",
      "text/plain": [
       "<Figure size 640x480 with 1 Axes>"
      ]
     },
     "metadata": {},
     "output_type": "display_data"
    }
   ],
   "source": [
    "# total stats & plot\n",
    "print(sum(df.is_easy)/len(df))\n",
    "tb2.get(['perc_easy_u']).plot(kind='bar')"
   ]
  },
  {
   "cell_type": "markdown",
   "metadata": {},
   "source": [
    "## Part II: Analysis of LS web crawl\n",
    "\n",
    "We estimate the coverage/comprehensivenss of the Oscar (Common Crawl) by calculating what percentage of the LS URLs our crawler finds (which are among the public sector websites shared with us) exist in our Oscar subset.\n",
    "\n",
    "Due to anonimity of the states, we cannot share the list of found URLs. However, the results are as follows:\n",
    "\n",
    "- 11 of the public sector domains are missing in the subset—this is probably a curlie issue rather than Oscar\n",
    "- Among the remainder, out of 310 found URLs, only 9 appear in the subset. This is a crawler coverage issue\n"
   ]
  },
  {
   "cell_type": "code",
   "execution_count": 11,
   "metadata": {},
   "outputs": [],
   "source": [
    "# lszero =  open(\"./data/found-lsurls-excluded.txt\").readlines()\n",
    "\n",
    "# if not 'urls' in locals():\n",
    "#     urls = set(df.url)\n",
    "#     domains = set(df.domain)\n",
    "\n",
    "# u_in, u_out = [], []\n",
    "# d_in, d_out = set(), set()\n",
    "\n",
    "# for u in lszero:\n",
    "#     u = u.strip()\n",
    "#     d = tldextract.extract(urlparse(u).netloc).registered_domain\n",
    "#     if d in domains:\n",
    "#         d_in.add(d)\n",
    "#         if u in urls:\n",
    "#             u_in.append(u)\n",
    "#         else:\n",
    "#             u_out.append(u)\n",
    "#     else:\n",
    "#         d_out.add(d)\n",
    "\n",
    "\n",
    "# print('domains:', len(d_in), len(d_out))\n",
    "# print('urls:', len(u_in), len(u_out), )"
   ]
  },
  {
   "cell_type": "markdown",
   "metadata": {},
   "source": [
    "**Table 2**\n",
    "\n",
    "To calculate the number of domains that have LS pages (which are presented in Table 2), please refer to the results/output-log of the crawler.\n",
    "\n",
    "Regarding the LS quality aspect on the pages found, the following cell calculates the amount of times that a [Leichte Sprache rule](https://languagetool.org/de/leichte-sprache) is broken. The input web pages have been saved as text files by the web crawler. The rule check code uses the [Language Tool API](https://dev.languagetool.org/public-http-api), which we recommend [installing locally](https://dev.languagetool.org/http-server). \n",
    "\n",
    "\n",
    "\n"
   ]
  },
  {
   "cell_type": "code",
   "execution_count": null,
   "metadata": {},
   "outputs": [],
   "source": [
    "inputdir = \"./crawler/savedpages/\"  # path where input files are saved\n",
    "outputfile = \"output_file.csv\" # path to output csv file\n",
    "bundesland = \"bundesland\" # first column in output csv file\n",
    "\n",
    "texts = dict()\n",
    "filenames = os.listdir(inputdir)\n",
    "for fn in filenames:\n",
    "    if fn.endswith('.txt'):\n",
    "        with open(inputdir + fn, 'r') as in_file:\n",
    "            text = in_file.readlines()\n",
    "            body = ' '.join(text[1:])\n",
    "            body = body.replace('\\n', '')\n",
    "            # replace * and # because they count as sonderzeichen\n",
    "            body = body.replace('*', '')\n",
    "            body = body.replace('#', '')\n",
    "            texts[text[0].strip()] = body\n",
    "\n",
    "all_counters = dict()\n",
    "\n",
    "for i,t in enumerate(texts):\n",
    "    if i% 10 == 0:\n",
    "        print(str(i), \" texts parsed\")\n",
    "\n",
    "    # Get length of text (characters)\n",
    "    length = len(texts[t])\n",
    "\n",
    "    headers = {'Content-Type': 'application/x-www-form-urlencoded',}\n",
    "    data = 'text=' + texts[t] + '&language=de-DE-x-simple-language'\n",
    "\n",
    "    # We recommend setting up your own LanguageTool server for speed/reliability. \n",
    "    # If you are just trying out one text, you can use the public API: https://api.languagetool.org/v2/check\n",
    "    # (but please note the restrictions)\n",
    "    response = requests.post('http://localhost:8081/v2/check', headers=headers, data=data.encode('utf-8'))\n",
    "    print(response.status_code)\n",
    "    if response.status_code != 400:\n",
    "        output = response.json()\n",
    "    else:\n",
    "        print(i)\n",
    "        continue\n",
    "\n",
    "    rule_breaks = Counter()\n",
    "    for matches in output['matches']:\n",
    "        rule_breaks[matches['rule']['id']] += 1\n",
    "\n",
    "    #Total rule breaks\n",
    "    total_rule_breaks = sum(rule_breaks.values())\n",
    "\n",
    "    #Unique rule breaks\n",
    "    unique_rule_breaks = len(list(rule_breaks))\n",
    "\n",
    "    #Top 3 rule breaks\n",
    "    top_3 = rule_breaks.most_common(3)\n",
    "\n",
    "    all_counters[t] = rule_breaks\n",
    "\n",
    "    #CSV file with: URL, length of text in characters, total rule breaks, unique rule breaks,\n",
    "    with open(outputfile, 'a') as output:\n",
    "        print(bundesland+','+t+','+str(length)+','+str(total_rule_breaks)+','+str(unique_rule_breaks)+',\"'+str(top_3)+'\"',file=output)\n",
    "\n",
    "    json.dump(all_counters, open('counter_' + bundesland + '.json', 'w'))\n"
   ]
  },
  {
   "cell_type": "code",
   "execution_count": null,
   "metadata": {},
   "outputs": [],
   "source": []
  }
 ],
 "metadata": {
  "kernelspec": {
   "display_name": "Python 3 (ipykernel)",
   "language": "python",
   "name": "python3"
  },
  "language_info": {
   "codemirror_mode": {
    "name": "ipython",
    "version": 3
   },
   "file_extension": ".py",
   "mimetype": "text/x-python",
   "name": "python",
   "nbconvert_exporter": "python",
   "pygments_lexer": "ipython3",
   "version": "3.10.6"
  }
 },
 "nbformat": 4,
 "nbformat_minor": 1
}
